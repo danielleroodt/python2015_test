{
 "metadata": {
  "name": "",
  "signature": "sha256:4dd1df0dc3de673c59f679d4cd015d731bf3f9349af962578648df3c0272edaa"
 },
 "nbformat": 3,
 "nbformat_minor": 0,
 "worksheets": [
  {
   "cells": [
    {
     "cell_type": "code",
     "collapsed": false,
     "input": [
      "import sys\n",
      "import os\n",
      "import os.path\n",
      "sys.path.append(os.path.join(os.getcwd(), 'lib'))\n",
      "from test import python_test"
     ],
     "language": "python",
     "metadata": {},
     "outputs": [],
     "prompt_number": 3
    },
    {
     "cell_type": "markdown",
     "metadata": {},
     "source": [
      "Please register by putting your name and email address in the `register` line below:"
     ]
    },
    {
     "cell_type": "code",
     "collapsed": false,
     "input": [
      "python_test.register('Danielle Roodt', 'danielle.roodt@fabi.up.ac.za')"
     ],
     "language": "python",
     "metadata": {},
     "outputs": []
    },
    {
     "cell_type": "markdown",
     "metadata": {},
     "source": [
      "**(1)** Write a function `multiply(x, y)` that returns the results of multiplying `x` and `y`. I.e. \n",
      "\n",
      "        result = multiply(5, 10)\n",
      "        print result\n",
      " \n",
      " would print `50`.\n",
      " \n",
      " **Marks:** 1"
     ]
    },
    {
     "cell_type": "code",
     "collapsed": false,
     "input": [
      "def multiply(x, y):\n",
      "    result = x * y\n",
      "    return result"
     ],
     "language": "python",
     "metadata": {},
     "outputs": [],
     "prompt_number": 9
    },
    {
     "cell_type": "code",
     "collapsed": false,
     "input": [
      "python_test.run_test(1, multiply)"
     ],
     "language": "python",
     "metadata": {},
     "outputs": [
      {
       "output_type": "stream",
       "stream": "stdout",
       "text": [
        "Correct\n"
       ]
      }
     ],
     "prompt_number": 10
    },
    {
     "cell_type": "markdown",
     "metadata": {},
     "source": [
      "**(2)** To calculate the product of a list of numbers you multiply them together, so e.g. the product of 1, 2, 3, and 4 is 1 \u00d7 2 \u00d7 3 \u00d7 4, i.e. 24. Write a python function `product_of(thelist)` that returns the product of all the numbers in `thelist`. E.g.\n",
      "\n",
      "        mylist = [1,2,3,4]\n",
      "        result = product_of(mylist)\n",
      "        print result\n",
      "        \n",
      "would print `24`.\n",
      "\n",
      "**Marks:** 3"
     ]
    },
    {
     "cell_type": "code",
     "collapsed": false,
     "input": [
      "def product_of(thelist):\n",
      "    result = 1\n",
      "    for i in thelist:\n",
      "        result *= i\n",
      "    return result"
     ],
     "language": "python",
     "metadata": {},
     "outputs": [],
     "prompt_number": 19
    },
    {
     "cell_type": "code",
     "collapsed": false,
     "input": [
      "python_test.run_test(2, product_of)"
     ],
     "language": "python",
     "metadata": {},
     "outputs": [
      {
       "output_type": "stream",
       "stream": "stdout",
       "text": [
        "Correct\n"
       ]
      }
     ],
     "prompt_number": 20
    },
    {
     "cell_type": "markdown",
     "metadata": {},
     "source": [
      "**(3)** The molecular weight (in g/mol) of a strand of (synthesised) single-stranded DNA can be computed by adding together the weights of the individual bases and then subtracting 61.96. The individual bases have these weights:\n",
      "\n",
      "        Adenine  313.2\n",
      "        Thymine  304.2\n",
      "        Cytosine 289.2\n",
      "        Guanine  329.2\n",
      "\n",
      "So for example the molecular weight of the string `GATACCA` is 2089.44. Write a function `mol_weight(dna_str)` that computes the molecular weight of strand of DNA. E.g. \n",
      "\n",
      "        weight = mol_weight('GATACCA')\n",
      "        print weight\n",
      "\n",
      "would print 2089.44.\n",
      "\n",
      "**Marks:** 5"
     ]
    },
    {
     "cell_type": "code",
     "collapsed": false,
     "input": [
      "def mol_weight(dna_str):\n",
      "    weight = []\n",
      "    sum_all = 0\n",
      "    for i in dna_str:\n",
      "        if i == 'A':\n",
      "            weight.append(313.2)\n",
      "        elif i == 'T':\n",
      "            weight.append(304.2)\n",
      "        elif i == 'C':\n",
      "            weight.append(289.2)\n",
      "        elif i == 'G':\n",
      "            weight.append(329.2)\n",
      "    for j in weight:\n",
      "        sum_all += j\n",
      "    return sum_all - 61.96"
     ],
     "language": "python",
     "metadata": {},
     "outputs": [],
     "prompt_number": 35
    },
    {
     "cell_type": "code",
     "collapsed": false,
     "input": [
      "python_test.run_test(3, mol_weight)"
     ],
     "language": "python",
     "metadata": {},
     "outputs": [
      {
       "output_type": "stream",
       "stream": "stdout",
       "text": [
        "Correct\n"
       ]
      }
     ],
     "prompt_number": 36
    },
    {
     "cell_type": "markdown",
     "metadata": {},
     "source": [
      "**(4)** Write a function `longest_line(filename)` that returns the longest line in the file named by `filename`. E.g. if a file `myfile.txt` contained the following lines:\n",
      "\n",
      "        *****************\n",
      "        ***********\n",
      "        ***\n",
      "        ************************\n",
      "\n",
      "then\n",
      "\n",
      "        line = longest_line('myfile.txt')\n",
      "        print line\n",
      "\n",
      "would print\n",
      "\n",
      "        ************************\n",
      "\n",
      "You can test your function using the file `sample.txt`.\n",
      "        \n",
      "**Marks:** 5     "
     ]
    },
    {
     "cell_type": "code",
     "collapsed": false,
     "input": [
      "def longest_line(filename):\n",
      "    input_file = open(filename)\n",
      "    max_length = 0\n",
      "    max_line = []\n",
      "    all_lines = input_file.readlines()\n",
      "    for line in all_lines:\n",
      "        linelen = len(line)\n",
      "        if linelen > max_length:\n",
      "            max_length = linelen\n",
      "            max_line.append(line)\n",
      "            longest = max_line[-1]\n",
      "    return longest"
     ],
     "language": "python",
     "metadata": {},
     "outputs": [],
     "prompt_number": 131
    },
    {
     "cell_type": "code",
     "collapsed": false,
     "input": [
      "python_test.run_test(4, longest_line)"
     ],
     "language": "python",
     "metadata": {},
     "outputs": [
      {
       "output_type": "stream",
       "stream": "stdout",
       "text": [
        "Correct\n"
       ]
      }
     ],
     "prompt_number": 132
    },
    {
     "cell_type": "markdown",
     "metadata": {},
     "source": [
      "**(5)** Consider a file that contains protein names, with one name per line. Here is a sample of the file:\n",
      "\n",
      "        COL1A1\n",
      "        MED12\n",
      "        IREB2\n",
      "        GDF9\n",
      "        RXRG\n",
      "        CBFB\n",
      "        IREB2\n",
      "        TUBB\n",
      "\n",
      "\n",
      "Write a function `deduplicate(filename)` that reads in a file like this (one is provided as `names.txt`) and returns a unique list of names. If `names.txt` contained only the above example, then:\n",
      "\n",
      "        unique_names = deduplicate('names.txt')\n",
      "        print unique_names\n",
      "\n",
      "should print:\n",
      "\n",
      "        ['CBFB', 'COL1A1', 'GDF9', 'IREB2', 'MED12', 'RXRG', 'TUBB']\n",
      "        \n",
      "(The order of the names isn't important)\n",
      "\n",
      "**Marks:** 6"
     ]
    },
    {
     "cell_type": "code",
     "collapsed": false,
     "input": [
      "import re\n",
      "\n",
      "def deduplicate(filename):\n",
      "    input_file = open(filename)\n",
      "    proteins = re.findall('\\w+', input_file.read())\n",
      "    unique_names = []\n",
      "    frequency = {key: 0 for key in proteins}\n",
      "    for name in proteins:\n",
      "        frequency[name] += 1\n",
      "    for name in frequency:\n",
      "        if frequency[name] == 1:\n",
      "            unique_names.append(name)\n",
      "    return unique_names"
     ],
     "language": "python",
     "metadata": {},
     "outputs": [],
     "prompt_number": 173
    },
    {
     "cell_type": "code",
     "collapsed": false,
     "input": [
      "python_test.run_test(5, deduplicate)"
     ],
     "language": "python",
     "metadata": {},
     "outputs": [
      {
       "output_type": "stream",
       "stream": "stdout",
       "text": [
        "Incorrect\n"
       ]
      }
     ],
     "prompt_number": 174
    },
    {
     "cell_type": "markdown",
     "metadata": {},
     "source": [
      "**(6)** The following code is a script that is intended to count how many times a protein name occurs in a file (you can use `names.txt` as the sample file). The script (with bugs) can be found in `bin/count_name.py` and is executable. The code has errors. Correct them:\n",
      "\n",
      "````\n",
      "#!/usr/bin/eenv python\n",
      "\n",
      "import sys\n",
      "\n",
      "def count_name(filename, protein_name):\n",
      "    input_file = open(sys.argv[1])\n",
      "    count = 0\n",
      "    for line in input_file:\n",
      "        if line.rstrip() == protein_name:\n",
      "            count += 1\n",
      "    return count\n",
      "\n",
      "if len(sys.argv) != 3:\n",
      "    sys.exit(\"Usage: count_name.py <protein names file> <protein name>\")\n",
      "\n",
      "filename = sys.argv[0]\n",
      "protein_name = sys.argv[1]\n",
      "name_count = count_name(filename, protein_name)\n",
      "print protein_name, name_count\n",
      "````\n",
      "\n",
      "**Marks:** 4\n"
     ]
    },
    {
     "cell_type": "code",
     "collapsed": false,
     "input": [
      "python_test.run_test(6, None)"
     ],
     "language": "python",
     "metadata": {},
     "outputs": [
      {
       "output_type": "stream",
       "stream": "stdout",
       "text": [
        "Correct\n"
       ]
      }
     ],
     "prompt_number": 135
    },
    {
     "cell_type": "code",
     "collapsed": false,
     "input": [
      "print \"Total marks available:\", python_test.max_marks()"
     ],
     "language": "python",
     "metadata": {},
     "outputs": [
      {
       "output_type": "stream",
       "stream": "stdout",
       "text": [
        "Total marks available: 25\n"
       ]
      }
     ],
     "prompt_number": 2
    },
    {
     "cell_type": "code",
     "collapsed": false,
     "input": [],
     "language": "python",
     "metadata": {},
     "outputs": []
    }
   ],
   "metadata": {}
  }
 ]
}